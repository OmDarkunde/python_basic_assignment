{
 "cells": [
  {
   "cell_type": "markdown",
   "id": "f7c15510-21ea-4658-8f22-db0198728ed1",
   "metadata": {},
   "source": [
    "1. To what does a relative path refer?"
   ]
  },
  {
   "cell_type": "code",
   "execution_count": null,
   "id": "175c334e-40aa-43a4-9096-229b87dc67c1",
   "metadata": {},
   "outputs": [],
   "source": [
    "The relative path is the path to some file with respect to your current working directory (PWD).\n",
    "For example:   \n",
    "         if Absolute path to a file called stuff.txt is: C:/users/admin/docs/stuff.txt If my PWD is C:/users/admin/ , then the relative path to stuff.txt would be: docs/stuff.txt\n",
    "Note: PWD + relative path = absolute path\n"
   ]
  },
  {
   "cell_type": "markdown",
   "id": "7733400b-b563-4274-a312-acd351e51e24",
   "metadata": {},
   "source": [
    "2. What does an absolute path start with your operating system?"
   ]
  },
  {
   "cell_type": "raw",
   "id": "3b3fb124-d4e9-4590-bbcb-81bb28bd3481",
   "metadata": {},
   "source": [
    "a complete path from start of actual filesystem from / directory."
   ]
  },
  {
   "cell_type": "markdown",
   "id": "40bee98e-3ad5-4319-b22d-d0f89f616362",
   "metadata": {},
   "source": [
    "3. What do the functions os.getcwd() and os.chdir() do?"
   ]
  },
  {
   "cell_type": "raw",
   "id": "b3d3923d-0dd8-43b6-a46a-683b9aa513f3",
   "metadata": {},
   "source": [
    "os.getcwd() method tells us the location of current working directory (CWD). Whereas os.chdir() method in Python used to change the current working directory to specified path. These functions are similar to linux commands pwd and cd"
   ]
  },
  {
   "cell_type": "markdown",
   "id": "2aaefa5a-e4fa-4eb9-8efb-c202a0a8c36b",
   "metadata": {},
   "source": [
    "4. What are the . and .. folders?"
   ]
  },
  {
   "cell_type": "raw",
   "id": "351bc60f-8a04-4f60-9ce1-98fc3d44be11",
   "metadata": {},
   "source": [
    ". Represents the Current Directory Whereas .. Represents the Parent Directory of the Current Directory"
   ]
  },
  {
   "cell_type": "markdown",
   "id": "fcbe4883-aa0f-48f2-b913-876b5045619b",
   "metadata": {},
   "source": [
    "5. In C:\\bacon\\eggs\\spam.txt, which part is the dir name, and which part is the base name?"
   ]
  },
  {
   "cell_type": "raw",
   "id": "b3ce24c9-1dcd-44e5-8af2-805e09fc13a6",
   "metadata": {},
   "source": [
    "For C:\\bacon\\eggs\\spam.txt\n",
    "The dir name is C:\\\\bacon\\\\eggs\n",
    "The Base name is spam.txt"
   ]
  },
  {
   "cell_type": "markdown",
   "id": "fcb89527-10a5-4c5c-9335-0d35d8cfb72d",
   "metadata": {},
   "source": [
    "6. What are the three “mode” arguments that can be passed to the open() function?"
   ]
  },
  {
   "cell_type": "raw",
   "id": "4be303b0-add3-4926-971a-5504b7982206",
   "metadata": {},
   "source": [
    "A file can be Accessed in python using open() function. open function takes two arguments filename and mode of operation (optional). if mode is not provided the default mode of opening is read mode\n",
    "So, the syntax being: open(filename, mode)\n",
    "\n",
    "‘r’ – Read Mode: This is the default mode for open(). The file is opened and a pointer is positioned at the beginning of the file’s content.\n",
    "‘w’ – Write Mode: Using this mode will overwrite any existing content in a file. If the given file does not exist, a new one will be created.\n",
    "‘r+’ – Read/Write Mode: Use this mode if you need to simultaneously read and write to a file.\n",
    "‘a’ – Append Mode: With this mode the user can append the data without overwriting any already existing data in the file.\n",
    "‘a+’ – Append and Read Mode: In this mode you can read and append the data without overwriting the original file.\n",
    "‘x’ – Exclusive Creating Mode: This mode is for the sole purpose of creating new files. Use this mode if you know the file to be written doesn’t exist beforehand"
   ]
  },
  {
   "cell_type": "markdown",
   "id": "10f12dc3-2c10-44ae-8b2f-1dac50f00ad3",
   "metadata": {},
   "source": [
    "7. What happens if an existing file is opened in write mode?"
   ]
  },
  {
   "cell_type": "raw",
   "id": "2b1d8faf-fec1-43f9-be98-e99935a86e99",
   "metadata": {},
   "source": [
    "Using this mode will overwrite any existing content in a file. If the given file does not exist, a new one will be created."
   ]
  },
  {
   "cell_type": "markdown",
   "id": "54abc41b-4306-4ed3-9eb9-01c66405ab37",
   "metadata": {},
   "source": [
    "8.How do you tell the difference between read() and readlines() ?"
   ]
  },
  {
   "cell_type": "raw",
   "id": "6e60a94b-5c47-44bd-8f9b-266c11f75842",
   "metadata": {},
   "source": [
    "The main difference is that read() will read the whole file at once and then print out the first characters that take up as many bytes as you specify in the parenthesis\n",
    "\n",
    "Whereas the readline() that will read and print out only the first characters that take up as many bytes as you specify in the parenthesis. You may want to use readline() when you're reading files that are too big for your RAM.\n",
    "The read() would treat each character in the file separately, meaning that the iteration would happen for every character.\n",
    "The readline() function, on the other hand, only reads a single line of the file. This means that if the first line of the file were three lines long, the readline() function would only parse (or iterate/operate) on the first line of the file."
   ]
  },
  {
   "cell_type": "markdown",
   "id": "b65cedd2-0f9b-468f-b2bd-3426994496f2",
   "metadata": {},
   "source": [
    "9.What data structure does a shelf value resemble ?"
   ]
  },
  {
   "cell_type": "raw",
   "id": "54329435-cfcf-46bd-9739-4deac9004278",
   "metadata": {},
   "source": [
    " it contains key and values it represents dictionary."
   ]
  }
 ],
 "metadata": {
  "kernelspec": {
   "display_name": "Python 3 (ipykernel)",
   "language": "python",
   "name": "python3"
  },
  "language_info": {
   "codemirror_mode": {
    "name": "ipython",
    "version": 3
   },
   "file_extension": ".py",
   "mimetype": "text/x-python",
   "name": "python",
   "nbconvert_exporter": "python",
   "pygments_lexer": "ipython3",
   "version": "3.10.6"
  }
 },
 "nbformat": 4,
 "nbformat_minor": 5
}
